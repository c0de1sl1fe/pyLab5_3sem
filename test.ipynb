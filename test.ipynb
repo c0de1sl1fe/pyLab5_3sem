{
 "cells": [
  {
   "cell_type": "code",
   "execution_count": 1,
   "metadata": {},
   "outputs": [],
   "source": [
    "import numpy\n",
    "import matplotlib\n",
    "import torch"
   ]
  },
  {
   "cell_type": "code",
   "execution_count": 2,
   "metadata": {},
   "outputs": [
    {
     "data": {
      "text/plain": [
       "True"
      ]
     },
     "execution_count": 2,
     "metadata": {},
     "output_type": "execute_result"
    }
   ],
   "source": [
    "torch.cuda.is_available()"
   ]
  },
  {
   "cell_type": "code",
   "execution_count": 3,
   "metadata": {},
   "outputs": [
    {
     "name": "stdout",
     "output_type": "stream",
     "text": [
      "Sat Dec 17 09:26:40 2022       \n",
      "+-----------------------------------------------------------------------------+\n",
      "| NVIDIA-SMI 527.37       Driver Version: 527.37       CUDA Version: 12.0     |\n",
      "|-------------------------------+----------------------+----------------------+\n",
      "| GPU  Name            TCC/WDDM | Bus-Id        Disp.A | Volatile Uncorr. ECC |\n",
      "| Fan  Temp  Perf  Pwr:Usage/Cap|         Memory-Usage | GPU-Util  Compute M. |\n",
      "|                               |                      |               MIG M. |\n",
      "|===============================+======================+======================|\n",
      "|   0  NVIDIA GeForce ... WDDM  | 00000000:27:00.0  On |                  N/A |\n",
      "|  0%   46C    P5    19W / 125W |    960MiB /  6144MiB |      2%      Default |\n",
      "|                               |                      |                  N/A |\n",
      "+-------------------------------+----------------------+----------------------+\n",
      "                                                                               \n",
      "+-----------------------------------------------------------------------------+\n",
      "| Processes:                                                                  |\n",
      "|  GPU   GI   CI        PID   Type   Process name                  GPU Memory |\n",
      "|        ID   ID                                                   Usage      |\n",
      "|=============================================================================|\n",
      "|    0   N/A  N/A      6264    C+G   ...me\\Application\\chrome.exe    N/A      |\n",
      "|    0   N/A  N/A     11596    C+G   ...2txyewy\\TextInputHost.exe    N/A      |\n",
      "|    0   N/A  N/A     14848    C+G   ...gram Desktop\\Telegram.exe    N/A      |\n",
      "|    0   N/A  N/A     16632    C+G   ...ge\\Application\\msedge.exe    N/A      |\n",
      "|    0   N/A  N/A     19252    C+G   ...perience\\NVIDIA Share.exe    N/A      |\n",
      "|    0   N/A  N/A     19904    C+G   ...icrosoft VS Code\\Code.exe    N/A      |\n",
      "|    0   N/A  N/A     21708    C+G   ...\\app-1.0.9008\\Discord.exe    N/A      |\n",
      "|    0   N/A  N/A     23348    C+G   ...5n1h2txyewy\\SearchApp.exe    N/A      |\n",
      "|    0   N/A  N/A     25832    C+G   ...lPanel\\SystemSettings.exe    N/A      |\n",
      "|    0   N/A  N/A     27420    C+G   C:\\Windows\\explorer.exe         N/A      |\n",
      "|    0   N/A  N/A     28476    C+G   ...wekyb3d8bbwe\\Video.UI.exe    N/A      |\n",
      "+-----------------------------------------------------------------------------+\n"
     ]
    }
   ],
   "source": [
    "!nvidia-smi\n"
   ]
  },
  {
   "cell_type": "code",
   "execution_count": null,
   "metadata": {},
   "outputs": [],
   "source": [
    "import torch\n",
    "import torch.nn as nn\n",
    "import torch\n",
    "import torch.optim as optim\n",
    "import torch.nn.functional as F\n",
    "\n",
    "from torchvision import datasets, models, transforms\n",
    "from torch.utils.data import DataLoader, Dataset\n",
    "\n",
    "from sklearn.model_selection import train_test_split\n",
    "\n",
    "import numpy as np\n",
    "import pandas as pd\n",
    "import matplotlib.pyplot as plt\n",
    "import cv2\n",
    "import os\n",
    "import glob\n",
    "import random\n",
    "\n",
    "learning_rate = 0.001\n",
    "batch_size = 10\n",
    "epochs = 10\n",
    "\n",
    "#устанавливаем зерно и случайное значение\n",
    "device = 'cuda' if torch.cuda.is_available() else 'cpu'\n",
    "\n",
    "torch.manual_seed(1234)\n",
    "if device =='cuda':\n",
    "    torch.cuda.manual_seed_all(1234)\n",
    "\n",
    "\n",
    "print(device)"
   ]
  },
  {
   "attachments": {},
   "cell_type": "markdown",
   "metadata": {},
   "source": [
    "Task 1-2"
   ]
  },
  {
   "cell_type": "code",
   "execution_count": null,
   "metadata": {},
   "outputs": [],
   "source": [
    "train_path = 'D:\\Git\\pyLab5_3sem\\\\train'\n",
    "test_path = 'D:\\Git\\pyLab5_3sem\\\\test'\n",
    "val_path = 'D:\\Git\\pyLab5_3sem\\\\val'\n",
    "\n",
    "path1 = \"dataset/zebra/zebra_annotation.csv\"\n",
    "path2 = \"dataset/bay horse/bay horse_annotation.csv\"\n",
    "dfs = []\n",
    "tmp = pd.read_csv(path1, sep=',', header=None)\n",
    "dfs.append(tmp)\n",
    "tmp = pd.read_csv(path2, sep=',', header=None)\n",
    "dfs.append(tmp)\n",
    "df = pd.concat(dfs)\n",
    "df.drop(1, axis=1, inplace=True)\n",
    "df.rename(columns={0: 'absolute_way', 2: 'class_img'}, inplace=True)\n",
    "df.reset_index(inplace=True)\n",
    "\n",
    "\n",
    "if not os.path.isdir(train_path):\n",
    "    os.mkdir(train_path)\n",
    "\n",
    "if not os.path.isdir(test_path):\n",
    "    os.mkdir(test_path)\n",
    "\n",
    "if not os.path.isdir(val_path):\n",
    "    os.mkdir(val_path)\n",
    "\n",
    "\n",
    "def load_train(df: pd.core.frame.DataFrame, path: str, i: int) -> None:\n",
    "    '''\n",
    "    dowload img from dataframe with path\n",
    "    '''\n",
    "    image_path = df.absolute_way[i]\n",
    "    image = cv2.imread(image_path)\n",
    "    cv2.imwrite(os.path.join(path, f'{df.class_img[i]}.{i}.jpg'), image)\n",
    "\n",
    "\n",
    "def load_test(df: pd.core.frame.DataFrame, path: str, i: int) -> None:\n",
    "    '''\n",
    "    dowload img from dataframe with path, work with separation 80:10:10\n",
    "    '''\n",
    "    image_path = df.absolute_way[i]\n",
    "    image = cv2.imread(image_path)\n",
    "    if i - 840 > 104:\n",
    "        i = i - 1785\n",
    "    else:\n",
    "        i = i - 840\n",
    "    cv2.imwrite(os.path.join(path, f'{i}.jpg'), image)\n",
    "\n",
    "\n",
    "# using\n",
    "for i in range(840, 945):\n",
    "    load_test(df, test_path, i)\n",
    "\n",
    "for i in range(945, 1050):\n",
    "    load_train(df, val_path, i)\n",
    "\n",
    "for i in range(1050, 1890):\n",
    "    load_train(df, train_path, i)\n",
    "\n",
    "for i in range(1890, 1995):\n",
    "    load_test(df, test_path, i)\n",
    "\n",
    "for i in range(1995, 2100):\n",
    "    load_train(df, val_path, i)\n",
    "\n",
    "\n",
    "train_list = glob.glob(os.path.join(train_path, '*.jpg'))\n",
    "test_list = glob.glob(os.path.join(test_path, '*.jpg'))\n",
    "\n",
    "train_list, val_list = train_test_split(train_list, test_size=0.1)\n"
   ]
  }
 ],
 "metadata": {
  "kernelspec": {
   "display_name": ".venv",
   "language": "python",
   "name": "python3"
  },
  "language_info": {
   "codemirror_mode": {
    "name": "ipython",
    "version": 3
   },
   "file_extension": ".py",
   "mimetype": "text/x-python",
   "name": "python",
   "nbconvert_exporter": "python",
   "pygments_lexer": "ipython3",
   "version": "3.10.7 (tags/v3.10.7:6cc6b13, Sep  5 2022, 14:08:36) [MSC v.1933 64 bit (AMD64)]"
  },
  "orig_nbformat": 4,
  "vscode": {
   "interpreter": {
    "hash": "a143e6df6431caff39581954047fd7d78a9144e3cb12250b4b8ed13624ef3abf"
   }
  }
 },
 "nbformat": 4,
 "nbformat_minor": 2
}
